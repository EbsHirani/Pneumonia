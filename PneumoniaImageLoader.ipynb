{
  "nbformat": 4,
  "nbformat_minor": 0,
  "metadata": {
    "colab": {
      "name": "PneumoniaImageLoader.ipynb",
      "provenance": [],
      "collapsed_sections": []
    },
    "kernelspec": {
      "name": "python3",
      "display_name": "Python 3"
    }
  },
  "cells": [
    {
      "cell_type": "code",
      "metadata": {
        "id": "yNo87X5bJ6zA",
        "colab_type": "code",
        "colab": {}
      },
      "source": [
        "import os\n",
        "os.chdir(\"data/datasets/paultimothymooney/chest-xray-pneumonia\")"
      ],
      "execution_count": 0,
      "outputs": []
    },
    {
      "cell_type": "code",
      "metadata": {
        "id": "ZFhvlNnDK2jI",
        "colab_type": "code",
        "colab": {}
      },
      "source": [
        "os.chdir(\"chest_xray\")"
      ],
      "execution_count": 0,
      "outputs": []
    },
    {
      "cell_type": "code",
      "metadata": {
        "id": "tSWHCGIbLnrV",
        "colab_type": "code",
        "colab": {}
      },
      "source": [
        "paths = []\n",
        "labels = [] \n",
        "for i in os.listdir(\"train/PNEUMONIA\"):\n",
        "  labels.append(i.split(\"_\")[1])\n",
        "  paths.append(f\"train/PNEUMONIA/{i}\")\n",
        "for i in os.listdir(\"train/NORMAL\"):\n",
        "  labels.append(\"normal\")\n",
        "  paths.append(f\"train/NORMAL/{i}\")"
      ],
      "execution_count": 0,
      "outputs": []
    },
    {
      "cell_type": "code",
      "metadata": {
        "id": "aWBZmXnhQ4Bl",
        "colab_type": "code",
        "colab": {}
      },
      "source": [
        "test_paths = []\n",
        "test_labels = [] \n",
        "for i in os.listdir(\"test/PNEUMONIA\"):\n",
        "  test_labels.append(i.split(\"_\")[1])\n",
        "  test_paths.append(f\"test/PNEUMONIA/{i}\")\n",
        "for i in os.listdir(\"test/NORMAL\"):\n",
        "  test_labels.append(\"normal\")\n",
        "  test_paths.append(f\"test/NORMAL/{i}\")"
      ],
      "execution_count": 0,
      "outputs": []
    },
    {
      "cell_type": "code",
      "metadata": {
        "id": "e8vyMWuJNFxh",
        "colab_type": "code",
        "outputId": "2b1ae8ab-0a56-48ec-c5b0-a36592c69130",
        "colab": {
          "base_uri": "https://localhost:8080/",
          "height": 202
        }
      },
      "source": [
        "import pandas as pd\n",
        "import numpy as np\n",
        "df = pd.DataFrame({\"paths\":paths, \"labels\":labels})\n",
        "df.head()"
      ],
      "execution_count": 0,
      "outputs": [
        {
          "output_type": "execute_result",
          "data": {
            "text/html": [
              "<div>\n",
              "<style scoped>\n",
              "    .dataframe tbody tr th:only-of-type {\n",
              "        vertical-align: middle;\n",
              "    }\n",
              "\n",
              "    .dataframe tbody tr th {\n",
              "        vertical-align: top;\n",
              "    }\n",
              "\n",
              "    .dataframe thead th {\n",
              "        text-align: right;\n",
              "    }\n",
              "</style>\n",
              "<table border=\"1\" class=\"dataframe\">\n",
              "  <thead>\n",
              "    <tr style=\"text-align: right;\">\n",
              "      <th></th>\n",
              "      <th>paths</th>\n",
              "      <th>labels</th>\n",
              "    </tr>\n",
              "  </thead>\n",
              "  <tbody>\n",
              "    <tr>\n",
              "      <th>0</th>\n",
              "      <td>train/PNEUMONIA/person484_virus_986.jpeg</td>\n",
              "      <td>virus</td>\n",
              "    </tr>\n",
              "    <tr>\n",
              "      <th>1</th>\n",
              "      <td>train/PNEUMONIA/person1133_bacteria_3075.jpeg</td>\n",
              "      <td>bacteria</td>\n",
              "    </tr>\n",
              "    <tr>\n",
              "      <th>2</th>\n",
              "      <td>train/PNEUMONIA/person370_bacteria_1688.jpeg</td>\n",
              "      <td>bacteria</td>\n",
              "    </tr>\n",
              "    <tr>\n",
              "      <th>3</th>\n",
              "      <td>train/PNEUMONIA/person1503_virus_2613.jpeg</td>\n",
              "      <td>virus</td>\n",
              "    </tr>\n",
              "    <tr>\n",
              "      <th>4</th>\n",
              "      <td>train/PNEUMONIA/person1034_bacteria_2968.jpeg</td>\n",
              "      <td>bacteria</td>\n",
              "    </tr>\n",
              "  </tbody>\n",
              "</table>\n",
              "</div>"
            ],
            "text/plain": [
              "                                           paths    labels\n",
              "0       train/PNEUMONIA/person484_virus_986.jpeg     virus\n",
              "1  train/PNEUMONIA/person1133_bacteria_3075.jpeg  bacteria\n",
              "2   train/PNEUMONIA/person370_bacteria_1688.jpeg  bacteria\n",
              "3     train/PNEUMONIA/person1503_virus_2613.jpeg     virus\n",
              "4  train/PNEUMONIA/person1034_bacteria_2968.jpeg  bacteria"
            ]
          },
          "metadata": {
            "tags": []
          },
          "execution_count": 17
        }
      ]
    },
    {
      "cell_type": "code",
      "metadata": {
        "id": "3Y0wZ1kiN3-l",
        "colab_type": "code",
        "outputId": "2f959010-d9a1-4de0-cb6c-b67631bb2e47",
        "colab": {
          "base_uri": "https://localhost:8080/",
          "height": 313
        }
      },
      "source": [
        "%matplotlib inline\n",
        "import matplotlib.pyplot as plt\n",
        "import seaborn as sns\n",
        "sns.countplot(x = \"labels\", data = df)\n",
        "plt.title(\"Data distribution\")"
      ],
      "execution_count": 0,
      "outputs": [
        {
          "output_type": "execute_result",
          "data": {
            "text/plain": [
              "Text(0.5, 1.0, 'Data distribution')"
            ]
          },
          "metadata": {
            "tags": []
          },
          "execution_count": 16
        },
        {
          "output_type": "display_data",
          "data": {
            "image/png": "[encoded data removed]",
            "text/plain": [
              "<Figure size 432x288 with 1 Axes>"
            ]
          },
          "metadata": {
            "tags": [],
            "needs_background": "light"
          }
        }
      ]
    },
    {
      "cell_type": "code",
      "metadata": {
        "id": "6yVs6642PGXO",
        "colab_type": "code",
        "outputId": "eb1dfb33-30ad-4dac-de02-2201799980e6",
        "colab": {
          "base_uri": "https://localhost:8080/",
          "height": 35
        }
      },
      "source": [
        "bacteria = 0\n",
        "normal = 0\n",
        "virus = 0\n",
        "for i in labels:\n",
        "  if i == \"bacteria\": bacteria+=1\n",
        "  if i == \"virus\": virus+=1\n",
        "  if i == \"normal\": normal+=1\n",
        "print(f\"bacteria : {bacteria}, normal : {normal}, virus : {virus}\")"
      ],
      "execution_count": 0,
      "outputs": [
        {
          "output_type": "stream",
          "text": [
            "bacteria : 2530, normal : 1341, virus : 1345\n"
          ],
          "name": "stdout"
        }
      ]
    },
    {
      "cell_type": "code",
      "metadata": {
        "id": "EpTTpHLXQoGq",
        "colab_type": "code",
        "colab": {}
      },
      "source": [
        "from keras.preprocessing.image import load_img\n",
        "from keras.preprocessing.image import img_to_array\n",
        "from keras.preprocessing.image import array_to_img\n",
        "import cv2\n",
        "def read_image(file_path):\n",
        "    img = img_to_array(load_img(file_path,target_size = (224,224)))\n",
        "    if img.shape[-1] == 1:\n",
        "      img = np.dstack([img,img,img])\n",
        "    img = img.astype(np.float32)/255.\n",
        "\n",
        "    return img\n",
        "def prep_data(images):\n",
        "    count = len(images)\n",
        "    data = np.ndarray((count, 224, 224,3), dtype=np.float32)\n",
        "\n",
        "    for i, image_file in enumerate(images):\n",
        "        image = read_image(image_file)\n",
        "        data[i] = image\n",
        "    return data\n",
        "train = prep_data(paths)\n",
        "test = prep_data(test_paths)"
      ],
      "execution_count": 0,
      "outputs": []
    },
    {
      "cell_type": "code",
      "metadata": {
        "id": "mZIwsFC6VSss",
        "colab_type": "code",
        "colab": {}
      },
      "source": [
        "from numpy import save\n",
        "save(\"/content/drive/My Drive/Pneumonia/train.npy\",train)\n",
        "save(\"/content/drive/My Drive/Pneumonia/test.npy\", test)\n",
        "save(\"/content/drive/My Drive/Pneumonia/train_labels.npy\", np.asarray(labels))\n",
        "save(\"/content/drive/My Drive/Pneumonia/test_labels.npy\", np.asarray(test_labels))"
      ],
      "execution_count": 0,
      "outputs": []
    }
  ]
}